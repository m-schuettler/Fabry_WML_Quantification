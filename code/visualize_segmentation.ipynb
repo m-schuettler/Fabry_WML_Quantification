{
 "cells": [
  {
   "cell_type": "markdown",
   "id": "64013c84-92b1-460b-a111-835c2bafe30e",
   "metadata": {},
   "source": [
    "# Visualize DeepWMH Segmentation"
   ]
  },
  {
   "cell_type": "code",
   "execution_count": 1,
   "id": "0aa8b30b-a525-4be7-8cd1-d11c9f61a328",
   "metadata": {
    "tags": [],
    "trusted": true
   },
   "outputs": [],
   "source": [
    "from glob import glob\n",
    "import matplotlib.pyplot as plt\n",
    "import nibabel as nib\n",
    "from zipfile import ZipFile"
   ]
  },
  {
   "cell_type": "code",
   "execution_count": null,
   "id": "309a9fab-678e-484c-9a4c-d24c71d182d3",
   "metadata": {
    "tags": [],
    "trusted": true
   },
   "outputs": [
    {
     "name": "stdout",
     "output_type": "stream",
     "text": [
      "img shape:  (171, 222, 198) \n",
      "seg shape:  (171, 222, 198) \n",
      "brn shape:  (171, 222, 198)\n"
     ]
    }
   ],
   "source": [
    "id = 3494046    ## specify desired participant id\n",
    "\n",
    "with ZipFile(glob('/mnt/project/Bulk/Brain MRI/T2 FLAIR/'+str(id)[:2]+'/'+str(id)+'*.zip')[0], 'r') as zObject:\n",
    "    zObject.extract('T2_FLAIR/T2_FLAIR.nii.gz', path='input')\n",
    "img = nib.load('/opt/notebooks/input/T2_FLAIR/T2_FLAIR.nii.gz').get_fdata()\n",
    "shape = img.shape\n",
    "seg = nib.load(glob('**/002_Segmentations/003_postproc_fov/'+str(id)+'*.nii.gz', recursive=True)[0]).get_fdata()\n",
    "seg.shape\n",
    "\n",
    "brn = nib.load(glob('**/ANTs/'+str(id)+'*BrainExtractionMask.nii.gz', recursive=True)[0]).get_fdata()\n",
    "brn.shape\n",
    "print('img shape: ', img.shape, '\\nseg shape: ', seg.shape, '\\nbrn shape: ', brn.shape)"
   ]
  },
  {
   "cell_type": "code",
   "execution_count": null,
   "id": "dcec98a5-dfcb-4c5b-8462-a2823e251ea6",
   "metadata": {
    "tags": [],
    "trusted": true
   },
   "outputs": [],
   "source": [
    "from wml_functions import binary_cmap\n",
    "\n",
    "plt.subplots(6, 3, figsize=(9, 14))\n",
    "\n",
    "for i, s in zip(range(1, 18, 3), [70, 80, 90, 100, 110, 120]):\n",
    "    \n",
    "    plt.subplot(6, 3, i)\n",
    "    plt.imshow(img[:, :, s], cmap='gray')\n",
    "    plt.xticks([]);\n",
    "    plt.yticks([]);\n",
    "    if i == 1:\n",
    "        plt.title('T2 FLAIR MRIs')\n",
    "    plt.ylabel('slice '+str(s)+'/'+str(shape[-1]), fontsize='medium')\n",
    "    \n",
    "    plt.subplot(6, 3, i+1)\n",
    "    plt.imshow(img[:, :, s], cmap='gray')\n",
    "    plt.imshow(seg[:, :, s], cmap=binary_cmap('red'), alpha=0.8*(seg[:, :, s]>0))\n",
    "    plt.xticks([]);\n",
    "    plt.yticks([]);\n",
    "    if i == 1:\n",
    "        plt.title('WML segmentation')\n",
    "    \n",
    "    plt.subplot(6, 3, i+2)\n",
    "    plt.imshow(img[:, :, s], cmap='gray')\n",
    "    plt.imshow(brn[:, :, s], cmap=binary_cmap('dodgerblue'), alpha=0.8*(brn[:, :, s]>0))\n",
    "    plt.xticks([]);\n",
    "    plt.yticks([]);\n",
    "    if i == 1:\n",
    "        plt.title('Total brain segmentation')\n",
    "\n",
    "plt.tight_layout()"
   ]
  }
 ],
 "metadata": {
  "kernelspec": {
   "display_name": "Python 3 (ipykernel)",
   "language": "python",
   "name": "python3"
  },
  "language_info": {
   "codemirror_mode": {
    "name": "ipython",
    "version": 3
   },
   "file_extension": ".py",
   "mimetype": "text/x-python",
   "name": "python",
   "nbconvert_exporter": "python",
   "pygments_lexer": "ipython3",
   "version": "3.11.5"
  }
 },
 "nbformat": 4,
 "nbformat_minor": 5
}
